{
 "cells": [
  {
   "cell_type": "code",
   "execution_count": null,
   "metadata": {},
   "outputs": [],
   "source": [
    "import sqlite3\n",
    "import pandas as pd"
   ]
  },
  {
   "cell_type": "code",
   "execution_count": null,
   "metadata": {},
   "outputs": [],
   "source": [
    "df_whr = pd.read_csv('WHR20_Data.csv')"
   ]
  },
  {
   "cell_type": "code",
   "execution_count": null,
   "metadata": {},
   "outputs": [],
   "source": [
    "conn = sqlite3.connect('happiness_database.db')"
   ]
  },
  {
   "cell_type": "code",
   "execution_count": null,
   "metadata": {},
   "outputs": [],
   "source": [
    "table_whr = 'whr_2020'\n",
    "df_whr.to_sql(table_whr, conn, if_exists='replace', index=False)\n",
    "conn.close()"
   ]
  },
  {
   "cell_type": "code",
   "execution_count": null,
   "metadata": {},
   "outputs": [],
   "source": [
    "conn = sqlite3.connect('happiness_database.db')\n",
    "cursor = conn.cursor()\n",
    "cursor.execute(f\"SELECT * FROM {table_whr}\")\n",
    "rows = cursor.fetchall()\n",
    "for row in rows:\n",
    "    print(row)\n",
    "conn.close()"
   ]
  },
  {
   "cell_type": "code",
   "execution_count": null,
   "metadata": {},
   "outputs": [],
   "source": [
    "df_wvs = pd.read_csv('WVS_Wave_7.csv')"
   ]
  },
  {
   "cell_type": "code",
   "execution_count": null,
   "metadata": {},
   "outputs": [],
   "source": [
    "conn = sqlite3.connect('happiness_database.db')\n",
    "table_wvs = 'wvs_wave7'\n",
    "df_wvs.to_sql(table_wvs, conn, if_exists='replace', index=False)\n",
    "cursor = conn.cursor()\n",
    "cursor.execute(f\"SELECT * FROM {table_wvs}\")\n",
    "rows = cursor.fetchall()\n",
    "for row in rows:\n",
    "    print(row)\n",
    "conn.close()"
   ]
  },
  {
   "cell_type": "code",
   "execution_count": null,
   "metadata": {},
   "outputs": [],
   "source": [
    "conn = sqlite3.connect('happiness_database.db')\n",
    "cursor = conn.cursor()\n",
    "wvs1 = cursor.execute('''\n",
    "CREATE TABLE wvs1(\n",
    "    country TEXT Primary Key NOT NULL,\n",
    "    year INTEGER NOT NULL,\n",
    "    pm2 INTEGER,\n",
    "    secval FLOAT,\n",
    "    skepticism FLOAT,\n",
    "    relativism FLOAT,\n",
    "    disbelief FLOAT,\n",
    "    defiance FLOAT,\n",
    "    emval FLOAT,\n",
    "    autonomy FLOAT,\n",
    "    equality FLOAT,\n",
    "    choice FLOAT,\n",
    "    voice FLOAT  \n",
    "               )\n",
    "''')\n",
    "conn.commit()"
   ]
  }
 ],
 "metadata": {
  "kernelspec": {
   "display_name": "Python 3",
   "language": "python",
   "name": "python3"
  },
  "language_info": {
   "codemirror_mode": {
    "name": "ipython",
    "version": 3
   },
   "file_extension": ".py",
   "mimetype": "text/x-python",
   "name": "python",
   "nbconvert_exporter": "python",
   "pygments_lexer": "ipython3",
   "version": "3.13.0"
  }
 },
 "nbformat": 4,
 "nbformat_minor": 2
}
